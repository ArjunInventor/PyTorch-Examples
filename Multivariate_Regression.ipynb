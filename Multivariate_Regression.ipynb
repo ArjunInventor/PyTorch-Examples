{
  "nbformat": 4,
  "nbformat_minor": 0,
  "metadata": {
    "colab": {
      "name": "Multivariate Regression.ipynb",
      "version": "0.3.2",
      "provenance": []
    },
    "kernelspec": {
      "name": "python3",
      "display_name": "Python 3"
    }
  },
  "cells": [
    {
      "cell_type": "code",
      "metadata": {
        "id": "6M8rFrqwFnUZ",
        "colab_type": "code",
        "colab": {}
      },
      "source": [
        "import numpy as np\n",
        "import pandas as pd\n",
        "\n",
        "%matplotlib inline\n",
        "import matplotlib.pyplot as plt\n",
        "import numpy as np\n",
        "\n",
        "import torch\n",
        "import torch.nn as nn\n",
        "import torch.nn.functional as F\n",
        "\n",
        "\n"
      ],
      "execution_count": 0,
      "outputs": []
    },
    {
      "cell_type": "code",
      "metadata": {
        "id": "Fehf3My3fiJg",
        "colab_type": "code",
        "colab": {}
      },
      "source": [
        "#Dummy Dataset\n",
        "df = pd.DataFrame(np.random.randint(0,100,size=(1000, 4)), columns=list('ABCD'))"
      ],
      "execution_count": 0,
      "outputs": []
    },
    {
      "cell_type": "code",
      "metadata": {
        "id": "JlkAktVVGFR-",
        "colab_type": "code",
        "colab": {}
      },
      "source": [
        "df[\"E\"] = df[\"A\"] * 1 + df[\"B\"] * 2 + df[\"C\"]  * 3 + df[\"D\"]  * 4"
      ],
      "execution_count": 0,
      "outputs": []
    },
    {
      "cell_type": "code",
      "metadata": {
        "id": "--nktzZIGmmy",
        "colab_type": "code",
        "colab": {}
      },
      "source": [
        "X = df.iloc[:, 0:4]\n",
        "y = df.iloc[:, 4]"
      ],
      "execution_count": 0,
      "outputs": []
    },
    {
      "cell_type": "code",
      "metadata": {
        "id": "5Qf348CzGXGa",
        "colab_type": "code",
        "colab": {}
      },
      "source": [
        "from sklearn.model_selection  import train_test_split\n",
        "X_train, X_test, y_train, y_test = train_test_split(X, y, test_size=0.3, random_state=0)\n"
      ],
      "execution_count": 0,
      "outputs": []
    },
    {
      "cell_type": "code",
      "metadata": {
        "id": "tYLxPN21G3Ca",
        "colab_type": "code",
        "colab": {}
      },
      "source": [
        "batch_size = 50\n",
        "num_epochs = 200\n",
        "learning_rate = 0.01\n",
        "\n",
        "batch_no = len(X_train) // batch_size\n",
        "\n",
        "n_feature=X_train.shape[1]\n",
        "n_output=1"
      ],
      "execution_count": 0,
      "outputs": []
    },
    {
      "cell_type": "code",
      "metadata": {
        "id": "C3yyu1yeG_GE",
        "colab_type": "code",
        "colab": {
          "base_uri": "https://localhost:8080/",
          "height": 34
        },
        "outputId": "ed5ccd36-f3dc-49bd-b55d-442fb1e9def8"
      },
      "source": [
        "device = torch.device(\"cuda:0\" if torch.cuda.is_available() else \"cpu\")\n",
        "\n",
        "print(\"Device :\",device)\n",
        "\n",
        "class Net(torch.nn.Module):\n",
        "    def __init__(self, n_feature, n_output):\n",
        "        super(Net, self).__init__()\n",
        "        self.predict = torch.nn.Linear(n_feature, n_output)\n",
        "\n",
        "    def forward(self, x):\n",
        "        x = self.predict(x)\n",
        "        return x\n",
        "    \n",
        "net = Net(n_feature, n_output)"
      ],
      "execution_count": 7,
      "outputs": [
        {
          "output_type": "stream",
          "text": [
            "Device : cpu\n"
          ],
          "name": "stdout"
        }
      ]
    },
    {
      "cell_type": "code",
      "metadata": {
        "id": "w5of53XCHB4K",
        "colab_type": "code",
        "colab": {
          "base_uri": "https://localhost:8080/",
          "height": 52
        },
        "outputId": "ba5ac978-b07a-4592-eb37-2aa4233c1efc"
      },
      "source": [
        "optimizer = torch.optim.Adam(net.parameters(), lr=learning_rate)\n",
        "criterion = torch.nn.MSELoss(size_average=False)"
      ],
      "execution_count": 8,
      "outputs": [
        {
          "output_type": "stream",
          "text": [
            "/usr/local/lib/python3.6/dist-packages/torch/nn/_reduction.py:46: UserWarning: size_average and reduce args will be deprecated, please use reduction='sum' instead.\n",
            "  warnings.warn(warning.format(ret))\n"
          ],
          "name": "stderr"
        }
      ]
    },
    {
      "cell_type": "code",
      "metadata": {
        "id": "DnzLD7rsHFrC",
        "colab_type": "code",
        "colab": {}
      },
      "source": [
        "X_train=X_train.values\n",
        "y_train=y_train.values\n",
        "X_test=X_test.values\n",
        "y_test=y_test.values"
      ],
      "execution_count": 0,
      "outputs": []
    },
    {
      "cell_type": "code",
      "metadata": {
        "id": "V8ZvaAqKHHko",
        "colab_type": "code",
        "colab": {
          "base_uri": "https://localhost:8080/",
          "height": 331
        },
        "outputId": "39093378-606a-4230-d090-2b725ea7a156"
      },
      "source": [
        "from sklearn.utils import shuffle\n",
        "from torch.autograd import Variable\n",
        "\n",
        "running_loss = 0.0\n",
        "loss_ar = []\n",
        "test_loss_ar = []\n",
        "for epoch in range(num_epochs):\n",
        "    net.train()\n",
        "    X_train, y_train = shuffle(X_train, y_train)\n",
        "    for i in range(batch_no):\n",
        "        start = i * batch_size\n",
        "        end = start + batch_size\n",
        "        \n",
        "        inputs = Variable(torch.FloatTensor(X_train[start:end]))\n",
        "        labels = Variable(torch.FloatTensor(y_train[start:end]))\n",
        "        \n",
        "        optimizer.zero_grad()\n",
        "        \n",
        "        outputs = net(inputs)\n",
        "        loss = criterion(outputs, torch.unsqueeze(labels,dim=1))\n",
        "        loss.backward()\n",
        "        optimizer.step()\n",
        "        \n",
        "        running_loss += loss.item()\n",
        "\n",
        "    loss_ar.append(running_loss)\n",
        "    running_loss = 0.0\n",
        "    \n",
        "    net.eval()\n",
        "    inputs = Variable(torch.FloatTensor(X_test))\n",
        "    labels = Variable(torch.FloatTensor(y_test))\n",
        "    y_pred = net(inputs)\n",
        "    test_loss = criterion(y_pred, labels)\n",
        "    test_loss_ar.append(test_loss.item())\n",
        "\n",
        "plt.subplot(2, 1, 1)\n",
        "plt.plot(loss_ar)\n",
        "plt.ylabel('Train Loss')\n",
        "\n",
        "plt.subplot(2, 1, 2)\n",
        "plt.plot(test_loss_ar)\n",
        "plt.ylabel('Test Loss')\n",
        "\n",
        "plt.show()\n"
      ],
      "execution_count": 10,
      "outputs": [
        {
          "output_type": "stream",
          "text": [
            "/usr/local/lib/python3.6/dist-packages/torch/nn/modules/loss.py:443: UserWarning: Using a target size (torch.Size([300])) that is different to the input size (torch.Size([300, 1])). This will likely lead to incorrect results due to broadcasting. Please ensure they have the same size.\n",
            "  return F.mse_loss(input, target, reduction=self.reduction)\n"
          ],
          "name": "stderr"
        },
        {
          "output_type": "display_data",
          "data": {
            "image/png": "[encoded data removed]",
            "text/plain": [
              "<Figure size 432x288 with 2 Axes>"
            ]
          },
          "metadata": {
            "tags": []
          }
        }
      ]
    },
    {
      "cell_type": "code",
      "metadata": {
        "id": "76sKZ9RecnTK",
        "colab_type": "code",
        "colab": {}
      },
      "source": [
        ""
      ],
      "execution_count": 0,
      "outputs": []
    }
  ]
}
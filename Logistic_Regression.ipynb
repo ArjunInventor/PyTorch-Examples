{
  "nbformat": 4,
  "nbformat_minor": 0,
  "metadata": {
    "colab": {
      "name": "Logistic Regression.ipynb",
      "version": "0.3.2",
      "provenance": []
    },
    "kernelspec": {
      "name": "python3",
      "display_name": "Python 3"
    }
  },
  "cells": [
    {
      "cell_type": "code",
      "metadata": {
        "id": "m_uIOKAwq2gt",
        "colab_type": "code",
        "colab": {}
      },
      "source": [
        "import numpy as np\n",
        "import pandas as pd\n",
        "\n",
        "%matplotlib inline\n",
        "import matplotlib.pyplot as plt\n",
        "import numpy as np\n",
        "\n",
        "import torch\n",
        "import torch.nn as nn\n",
        "import torch.nn.functional as F\n"
      ],
      "execution_count": 0,
      "outputs": []
    },
    {
      "cell_type": "code",
      "metadata": {
        "id": "rHop6uDErkxw",
        "colab_type": "code",
        "colab": {}
      },
      "source": [
        "df = pd.DataFrame(np.random.randint(0,100,size=(1000, 4)), columns=list('ABCD'))\n",
        "\n",
        "df[\"E\"] = df[\"A\"] * 1 + df[\"B\"] * 2 + df[\"C\"]  * 3 + df[\"D\"]  * 4\n",
        "df[\"E\"] =  df[\"E\"] > df[\"E\"].mean()\n",
        "df[\"E\"] = df[\"E\"].astype(int)"
      ],
      "execution_count": 0,
      "outputs": []
    },
    {
      "cell_type": "code",
      "metadata": {
        "id": "FshvWbatr8lm",
        "colab_type": "code",
        "colab": {}
      },
      "source": [
        "X = df.iloc[:, 0:4]\n",
        "y = df.iloc[:, 4]"
      ],
      "execution_count": 0,
      "outputs": []
    },
    {
      "cell_type": "code",
      "metadata": {
        "id": "3_QlwZLDs1aR",
        "colab_type": "code",
        "colab": {}
      },
      "source": [
        "from sklearn.model_selection  import train_test_split\n",
        "X_train, X_test, y_train, y_test = train_test_split(X, y, test_size=0.3, random_state=0)\n"
      ],
      "execution_count": 0,
      "outputs": []
    },
    {
      "cell_type": "code",
      "metadata": {
        "id": "cfXc2eRIs22Z",
        "colab_type": "code",
        "colab": {}
      },
      "source": [
        "batch_size = 50\n",
        "num_epochs = 200\n",
        "learning_rate = 0.01\n",
        "\n",
        "batch_no = len(X_train) // batch_size\n",
        "\n",
        "n_feature=X_train.shape[1]\n",
        "n_output=1"
      ],
      "execution_count": 0,
      "outputs": []
    },
    {
      "cell_type": "code",
      "metadata": {
        "id": "QJKcjdrMs4TH",
        "colab_type": "code",
        "colab": {
          "base_uri": "https://localhost:8080/",
          "height": 34
        },
        "outputId": "10692df2-3d63-40c6-efa3-22577784c2f4"
      },
      "source": [
        "device = torch.device(\"cuda:0\" if torch.cuda.is_available() else \"cpu\")\n",
        "\n",
        "print(\"Device :\",device)\n",
        "\n",
        "class Net(torch.nn.Module):\n",
        "    def __init__(self, n_feature, n_output):\n",
        "        super(Net, self).__init__()\n",
        "        self.linear = torch.nn.Linear(n_feature, n_output)\n",
        "        self.sigmoid = torch.nn.Sigmoid()\n",
        "    def forward(self, x):\n",
        "        x = self.linear(x)\n",
        "        x = self.sigmoid(x)\n",
        "        return x\n",
        "    \n",
        "net = Net(n_feature, n_output)"
      ],
      "execution_count": 20,
      "outputs": [
        {
          "output_type": "stream",
          "text": [
            "Device : cpu\n"
          ],
          "name": "stdout"
        }
      ]
    },
    {
      "cell_type": "code",
      "metadata": {
        "id": "OMBuGwnBs5_H",
        "colab_type": "code",
        "colab": {}
      },
      "source": [
        "optimizer = torch.optim.Adam(net.parameters(), lr=learning_rate)\n",
        "criterion = nn.BCELoss()"
      ],
      "execution_count": 0,
      "outputs": []
    },
    {
      "cell_type": "code",
      "metadata": {
        "id": "H_KpUiSbs7VA",
        "colab_type": "code",
        "colab": {}
      },
      "source": [
        "X_train=X_train.values\n",
        "y_train=y_train.values\n",
        "X_test=X_test.values\n",
        "y_test=y_test.values"
      ],
      "execution_count": 0,
      "outputs": []
    },
    {
      "cell_type": "code",
      "metadata": {
        "id": "L2QDyWZRs9nO",
        "colab_type": "code",
        "colab": {
          "base_uri": "https://localhost:8080/",
          "height": 324
        },
        "outputId": "3ed252db-f50f-47ee-dccd-7705c316579f"
      },
      "source": [
        "from sklearn.utils import shuffle\n",
        "from torch.autograd import Variable\n",
        "\n",
        "running_loss = 0.0\n",
        "loss_ar = []\n",
        "test_loss_ar = []\n",
        "for epoch in range(num_epochs):\n",
        "    net.train()\n",
        "    X_train, y_train = shuffle(X_train, y_train)\n",
        "    for i in range(batch_no):\n",
        "        start = i * batch_size\n",
        "        end = start + batch_size\n",
        "        \n",
        "        inputs = Variable(torch.FloatTensor(X_train[start:end]))\n",
        "        labels = Variable(torch.FloatTensor(y_train[start:end]))\n",
        "        \n",
        "        optimizer.zero_grad()\n",
        "        \n",
        "        outputs = net(inputs)\n",
        "        loss = criterion(outputs, torch.unsqueeze(labels,dim=1))\n",
        "        loss.backward()\n",
        "        optimizer.step()\n",
        "        \n",
        "        running_loss += loss.item()\n",
        "\n",
        "    loss_ar.append(running_loss)\n",
        "    running_loss = 0.0\n",
        "    \n",
        "    net.eval()\n",
        "    inputs = Variable(torch.FloatTensor(X_test))\n",
        "    labels = Variable(torch.FloatTensor(y_test))\n",
        "    y_pred = net(inputs)\n",
        "    test_loss = criterion(y_pred, labels)\n",
        "    test_loss_ar.append(test_loss.item())\n",
        "\n",
        "plt.subplot(2, 1, 1)\n",
        "plt.plot(loss_ar)\n",
        "plt.ylabel('Train Loss')\n",
        "\n",
        "plt.subplot(2, 1, 2)\n",
        "plt.plot(test_loss_ar)\n",
        "plt.ylabel('Test Loss')\n",
        "\n",
        "plt.show()\n"
      ],
      "execution_count": 23,
      "outputs": [
        {
          "output_type": "stream",
          "text": [
            "/usr/local/lib/python3.6/dist-packages/torch/nn/modules/loss.py:512: UserWarning: Using a target size (torch.Size([300])) that is different to the input size (torch.Size([300, 1])) is deprecated. Please ensure they have the same size.\n",
            "  return F.binary_cross_entropy(input, target, weight=self.weight, reduction=self.reduction)\n"
          ],
          "name": "stderr"
        },
        {
          "output_type": "display_data",
          "data": {
            "image/png": "[encoded data removed]",
            "text/plain": [
              "<Figure size 432x288 with 2 Axes>"
            ]
          },
          "metadata": {
            "tags": []
          }
        }
      ]
    },
    {
      "cell_type": "code",
      "metadata": {
        "id": "f0DLwEU-t1I8",
        "colab_type": "code",
        "colab": {}
      },
      "source": [
        "def predict(x):\n",
        "    net.eval()\n",
        "    inputs = Variable(torch.FloatTensor(X_test))\n",
        "    return net(inputs) > 0.5"
      ],
      "execution_count": 0,
      "outputs": []
    },
    {
      "cell_type": "code",
      "metadata": {
        "id": "MVIu6LwkuFui",
        "colab_type": "code",
        "colab": {}
      },
      "source": [
        "\n",
        "import sklearn\n",
        "acc = sklearn.metrics.accuracy_score(predict(X_test).data.numpy(), y_test)\n",
        "print(\"Accuracy: \", acc)"
      ],
      "execution_count": 0,
      "outputs": []
    },
    {
      "cell_type": "code",
      "metadata": {
        "id": "cXvVDa2uwUew",
        "colab_type": "code",
        "colab": {}
      },
      "source": [
        ""
      ],
      "execution_count": 0,
      "outputs": []
    }
  ]
}